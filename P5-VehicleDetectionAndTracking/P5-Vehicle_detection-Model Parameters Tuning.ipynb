{
 "cells": [
  {
   "cell_type": "markdown",
   "metadata": {},
   "source": [
    "# Import Necessary Modules"
   ]
  },
  {
   "cell_type": "code",
   "execution_count": 1,
   "metadata": {},
   "outputs": [
    {
     "name": "stdout",
     "output_type": "stream",
     "text": [
      "Imports done\n"
     ]
    },
    {
     "name": "stderr",
     "output_type": "stream",
     "text": [
      "/home/khaled/anaconda3/envs/carnd-term1/lib/python3.5/site-packages/sklearn/cross_validation.py:41: DeprecationWarning: This module was deprecated in version 0.18 in favor of the model_selection module into which all the refactored classes and functions are moved. Also note that the interface of the new CV iterators are different from that of this module. This module will be removed in 0.20.\n",
      "  \"This module will be removed in 0.20.\", DeprecationWarning)\n"
     ]
    }
   ],
   "source": [
    "import os , time\n",
    "import numpy as np\n",
    "import cv2\n",
    "import glob\n",
    "import pickle\n",
    "import matplotlib.pyplot as plt\n",
    "import matplotlib.image as mpimg\n",
    "%matplotlib inline\n",
    "from random import randint\n",
    "from IPython import display\n",
    "\n",
    "from sklearn.svm import LinearSVC\n",
    "from sklearn.preprocessing import StandardScaler\n",
    "from skimage.feature import hog\n",
    "from sklearn.cross_validation import train_test_split\n",
    "\n",
    "print(\"Imports done\")"
   ]
  },
  {
   "cell_type": "markdown",
   "metadata": {},
   "source": [
    "# Read data"
   ]
  },
  {
   "cell_type": "code",
   "execution_count": 2,
   "metadata": {},
   "outputs": [],
   "source": [
    "# read image file names from project directory\n",
    "def readImages_fn(dir, pattern):\n",
    "    images = []\n",
    "    for dirpath, dirnames, filenames in os.walk(dir):\n",
    "        for dirname in dirnames:\n",
    "            images.append(glob.glob(dir + '/' + dirname + '/' + pattern))\n",
    "    return images\n",
    "\n",
    "vehicles_fn = readImages_fn('./training_images/vehicles/vehicles', '*.png')\n",
    "non_vehicles_fn = readImages_fn('./training_images/non-vehicles/non-vehicles', '*.png')\n"
   ]
  },
  {
   "cell_type": "code",
   "execution_count": 3,
   "metadata": {},
   "outputs": [
    {
     "data": {
      "text/plain": [
       "[None, None]"
      ]
     },
     "execution_count": 3,
     "metadata": {},
     "output_type": "execute_result"
    }
   ],
   "source": [
    "# Getting no. of elements in the dataset and visualize a random image in each class\n",
    "cars = []\n",
    "notcars = []\n",
    "[cars.extend(vehicles_fn[i]) for i in range(len(vehicles_fn))]\n",
    "[notcars.extend(non_vehicles_fn[i]) for i in range(len(non_vehicles_fn))]"
   ]
  },
  {
   "cell_type": "markdown",
   "metadata": {},
   "source": [
    "# Features extraction functions"
   ]
  },
  {
   "cell_type": "code",
   "execution_count": 4,
   "metadata": {},
   "outputs": [],
   "source": [
    "# # Define a function to compute HOG features \n",
    "def get_hog_features(img, orient, pix_per_cell, cell_per_block, \n",
    "                        vis=False, feature_vec=True):\n",
    "    # Call with two outputs if vis==True\n",
    "    if vis == True:\n",
    "        features, hog_image = hog(img, orientations=orient, \n",
    "                                  pixels_per_cell=(pix_per_cell, pix_per_cell),\n",
    "                                  cells_per_block=(cell_per_block, cell_per_block), \n",
    "                                  transform_sqrt=True, \n",
    "                                  visualise=vis, feature_vector=feature_vec)\n",
    "        return features, hog_image\n",
    "    # Otherwise call with one output\n",
    "    else:      \n",
    "        features = hog(img, orientations=orient, \n",
    "                       pixels_per_cell=(pix_per_cell, pix_per_cell),\n",
    "                       cells_per_block=(cell_per_block, cell_per_block), \n",
    "                       transform_sqrt=True, \n",
    "                       visualise=vis, feature_vector=feature_vec)\n",
    "        return features\n",
    "\n",
    "# # Define a function to compute the spacial features \n",
    "def bin_spatial(img, size=(32, 32)):\n",
    "    color1 = cv2.resize(img[:,:,0], size).ravel()\n",
    "    color2 = cv2.resize(img[:,:,1], size).ravel()\n",
    "    color3 = cv2.resize(img[:,:,2], size).ravel()\n",
    "    return np.hstack((color1, color2, color3))\n",
    "\n",
    "\n",
    "# # Define a function to compute color histogram features \n",
    "def color_hist(img, nbins=32):    #bins_range=(0, 256)\n",
    "    # Compute the histogram of the color channels separately\n",
    "    channel1_hist = np.histogram(img[:,:,0], bins=nbins)\n",
    "    channel2_hist = np.histogram(img[:,:,1], bins=nbins)\n",
    "    channel3_hist = np.histogram(img[:,:,2], bins=nbins)\n",
    "    # Concatenate the histograms into a single feature vector\n",
    "    hist_features = np.concatenate((channel1_hist[0], channel2_hist[0], channel3_hist[0]))\n",
    "    # Return the individual histograms, bin_centers and feature vector\n",
    "    return hist_features"
   ]
  },
  {
   "cell_type": "markdown",
   "metadata": {},
   "source": [
    "# Features extraction Main function"
   ]
  },
  {
   "cell_type": "code",
   "execution_count": 5,
   "metadata": {},
   "outputs": [],
   "source": [
    "def extract_features(imgs, color_space='RGB', spatial_size=(32, 32),\n",
    "                        hist_bins=32, orient=9, \n",
    "                        pix_per_cell=8, cell_per_block=2, hog_channel=0,\n",
    "                        spatial_feat=True, hist_feat=True, hog_feat=True):\n",
    "    # Create a list to append feature vectors to\n",
    "    features = []\n",
    "    # Iterate through the list of images\n",
    "    for file in imgs:\n",
    "        file_features = []\n",
    "        # Read in each one by one\n",
    "        image = mpimg.imread(file)\n",
    "        # apply color conversion if other than 'RGB'\n",
    "        if color_space != 'RGB':\n",
    "            if color_space == 'HSV':\n",
    "                feature_image = cv2.cvtColor(image, cv2.COLOR_RGB2HSV)\n",
    "            elif color_space == 'LUV':\n",
    "                feature_image = cv2.cvtColor(image, cv2.COLOR_RGB2LUV)\n",
    "            elif color_space == 'HLS':\n",
    "                feature_image = cv2.cvtColor(image, cv2.COLOR_RGB2HLS)\n",
    "            elif color_space == 'YUV':\n",
    "                feature_image = cv2.cvtColor(image, cv2.COLOR_RGB2YUV)\n",
    "            elif color_space == 'YCrCb':\n",
    "                feature_image = cv2.cvtColor(image, cv2.COLOR_RGB2YCrCb)\n",
    "        else: feature_image = np.copy(image)      \n",
    "\n",
    "        if spatial_feat == True:\n",
    "            spatial_features = bin_spatial(feature_image, size=spatial_size)\n",
    "            file_features.append(spatial_features)\n",
    "        if hist_feat == True:\n",
    "            # Apply color_hist()\n",
    "            hist_features = color_hist(feature_image, nbins=hist_bins)\n",
    "            file_features.append(hist_features)\n",
    "        if hog_feat == True:\n",
    "        # Call get_hog_features() with vis=False, feature_vec=True\n",
    "            if hog_channel == 'ALL':\n",
    "                hog_features = []\n",
    "                for channel in range(feature_image.shape[2]):\n",
    "                    hog_features.append(get_hog_features(feature_image[:,:,channel], \n",
    "                                        orient, pix_per_cell, cell_per_block, \n",
    "                                        vis=False, feature_vec=True))\n",
    "                hog_features = np.ravel(hog_features)        \n",
    "            else:\n",
    "                hog_features = get_hog_features(feature_image[:,:,hog_channel], orient, \n",
    "                            pix_per_cell, cell_per_block, vis=False, feature_vec=True)\n",
    "            # Append the new feature vector to the features list\n",
    "            file_features.append(hog_features)\n",
    "        features.append(np.concatenate(file_features))\n",
    "    # Return list of feature vectors\n",
    "    return features"
   ]
  },
  {
   "cell_type": "markdown",
   "metadata": {},
   "source": [
    "# Features extraction paramaters"
   ]
  },
  {
   "cell_type": "code",
   "execution_count": 6,
   "metadata": {},
   "outputs": [],
   "source": [
    "color_space_param='YCrCb' # Can be RGB, HSV, LUV, HLS, YUV, YCrCb\n",
    "spatial_size_param=(32, 32) # Spatial binning dimensions\n",
    "hist_bins_param=32 # 16    # Number of histogram bins\n",
    "orient_param=9\n",
    "pix_per_cell_param=8  #HOG\n",
    "cell_per_block_param=2  # HOG\n",
    "hog_channel_param= 'ALL' # # Can be 0, 1, 2, or \"ALL\""
   ]
  },
  {
   "cell_type": "markdown",
   "metadata": {},
   "source": [
    "# Training"
   ]
  },
  {
   "cell_type": "code",
   "execution_count": 8,
   "metadata": {},
   "outputs": [
    {
     "name": "stdout",
     "output_type": "stream",
     "text": [
      "cars 8791\n",
      "color_space \torient_param\tspatial_size\tAccuracy\n"
     ]
    },
    {
     "name": "stderr",
     "output_type": "stream",
     "text": [
      "/home/khaled/anaconda3/envs/carnd-term1/lib/python3.5/site-packages/skimage/feature/_hog.py:119: skimage_deprecation: Default value of `block_norm`==`L1` is deprecated and will be changed to `L2-Hys` in v0.15\n",
      "  'be changed to `L2-Hys` in v0.15', skimage_deprecation)\n"
     ]
    },
    {
     "name": "stdout",
     "output_type": "stream",
     "text": [
      "RGB \t 8 \t (16, 16) \t 0.9823\n",
      "HSV \t 8 \t (16, 16) \t 0.9913\n",
      "HLS \t 8 \t (16, 16) \t 0.9916\n",
      "YCrCb \t 8 \t (16, 16) \t 0.9913\n",
      "RGB \t 8 \t (32, 32) \t 0.984\n",
      "HSV \t 8 \t (32, 32) \t 0.993\n",
      "HLS \t 8 \t (32, 32) \t 0.9907\n",
      "YCrCb \t 8 \t (32, 32) \t 0.9896\n",
      "RGB \t 9 \t (16, 16) \t 0.9854\n",
      "HSV \t 9 \t (16, 16) \t 0.9899\n",
      "HLS \t 9 \t (16, 16) \t 0.9916\n",
      "YCrCb \t 9 \t (16, 16) \t 0.9907\n",
      "RGB \t 9 \t (32, 32) \t 0.9862\n",
      "HSV \t 9 \t (32, 32) \t 0.9904\n",
      "HLS \t 9 \t (32, 32) \t 0.9918\n",
      "YCrCb \t 9 \t (32, 32) \t 0.9918\n"
     ]
    }
   ],
   "source": [
    "print (\"cars\", len(cars))\n",
    "orientation_range =[8,9]\n",
    "spatial_size_range=[16,32]\n",
    "colors_range=['RGB', 'HSV', 'HLS', 'YCrCb'] # LUV, YUV are not tested! An error is occuring for those colors\n",
    "\n",
    "print ('color_space \\torient_param\\tspatial_size\\tAccuracy')\n",
    "for orient_param in orientation_range:\n",
    "    for spatial_size_param_val in spatial_size_range:\n",
    "        for color_space_param in colors_range:\n",
    "            spatial_size_param = (spatial_size_param_val,spatial_size_param_val)\n",
    "            car_features = extract_features(cars, color_space=color_space_param, \n",
    "                                    spatial_size=spatial_size_param, hist_bins=hist_bins_param, \n",
    "                                    orient=orient_param, pix_per_cell=pix_per_cell_param, \n",
    "                                    cell_per_block=cell_per_block_param, \n",
    "                                    hog_channel=hog_channel_param)\n",
    "            notcar_features = extract_features(notcars, color_space=color_space_param, \n",
    "                                    spatial_size=spatial_size_param, hist_bins=hist_bins_param, \n",
    "                                    orient=orient_param, pix_per_cell=pix_per_cell_param, \n",
    "                                    cell_per_block=cell_per_block_param, \n",
    "                                    hog_channel=hog_channel_param)\n",
    "\n",
    "            # Create an array stack of feature vectors\n",
    "            X = np.vstack((car_features, notcar_features)).astype(np.float64)\n",
    "\n",
    "            # Define the labels vector\n",
    "            y = np.hstack((np.ones(len(car_features)), np.zeros(len(notcar_features))))\n",
    "            #print (\"all data\" ,y)\n",
    "            # Split up data into randomized training and test sets\n",
    "            rand_state = np.random.randint(0, 100)\n",
    "            X_train, X_test, y_train, y_test = train_test_split(\n",
    "                X, y, test_size=0.2, random_state=rand_state)\n",
    "\n",
    "            #print (\"train\",y_train)\n",
    "\n",
    "            # Fit a per-column scaler\n",
    "            X_scaler = StandardScaler().fit(X_train)\n",
    "            # Apply the scaler to X\n",
    "            X_train = X_scaler.transform(X_train)\n",
    "            X_test = X_scaler.transform(X_test)\n",
    "            # Use a linear SVC \n",
    "            svc = LinearSVC()\n",
    "            # Check the training time for the SVC\n",
    "            t=time.time()\n",
    "            svc.fit(X_train, y_train)\n",
    "            t2 = time.time()\n",
    "            print (color_space_param,'\\t', orient_param, '\\t', spatial_size_param,'\\t',round(svc.score(X_test, y_test), 4))"
   ]
  },
  {
   "cell_type": "code",
   "execution_count": null,
   "metadata": {},
   "outputs": [],
   "source": []
  }
 ],
 "metadata": {
  "kernelspec": {
   "display_name": "Python 3",
   "language": "python",
   "name": "python3"
  },
  "language_info": {
   "codemirror_mode": {
    "name": "ipython",
    "version": 3
   },
   "file_extension": ".py",
   "mimetype": "text/x-python",
   "name": "python",
   "nbconvert_exporter": "python",
   "pygments_lexer": "ipython3",
   "version": "3.5.2"
  },
  "widgets": {
   "state": {},
   "version": "1.1.2"
  }
 },
 "nbformat": 4,
 "nbformat_minor": 2
}
